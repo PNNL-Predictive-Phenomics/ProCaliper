{
 "cells": [
  {
   "cell_type": "code",
   "execution_count": 1,
   "metadata": {},
   "outputs": [
    {
     "data": {
      "application/vnd.jupyter.widget-view+json": {
       "model_id": "4e25adfecfbc4102b206c79c6f171915",
       "version_major": 2,
       "version_minor": 0
      },
      "text/plain": []
     },
     "metadata": {},
     "output_type": "display_data"
    }
   ],
   "source": [
    "import procaliper as pc\n",
    "import procaliper.view as pcv\n",
    "from nglview.color import ColormakerRegistry"
   ]
  },
  {
   "cell_type": "code",
   "execution_count": 2,
   "metadata": {},
   "outputs": [],
   "source": [
    "cm = ColormakerRegistry"
   ]
  },
  {
   "cell_type": "code",
   "execution_count": 3,
   "metadata": {},
   "outputs": [
    {
     "name": "stdout",
     "output_type": "stream",
     "text": [
      "Fetched: 1 / 1\n"
     ]
    }
   ],
   "source": [
    "protein = pc.Protein.from_uniprot_id(\"A0A0B4J2F0\")\n",
    "protein.fetch_pdb(save_path=\"scratch.pdb\")"
   ]
  },
  {
   "cell_type": "code",
   "execution_count": 4,
   "metadata": {},
   "outputs": [
    {
     "data": {
      "application/vnd.jupyter.widget-view+json": {
       "model_id": "b1fe72f9609f436d90e99a1f47932183",
       "version_major": 2,
       "version_minor": 0
      },
      "text/plain": [
       "NGLWidget()"
      ]
     },
     "metadata": {},
     "output_type": "display_data"
    }
   ],
   "source": [
    "_ = protein.get_sasa()\n",
    "assert protein.sasa_data is not None\n",
    "sasa_scheme = pcv.ngl_scheme(protein.sasa_data[\"all_sasa_value\"])\n",
    "view = pcv.protein_to_nglview(protein)\n",
    "view._remove_representation()\n",
    "cm.add_selection_scheme(\"all_sasa_value\", sasa_scheme)\n",
    "view.add_representation(\"surface\", color=\"all_sasa_value\")\n",
    "view"
   ]
  },
  {
   "cell_type": "code",
   "execution_count": 5,
   "metadata": {},
   "outputs": [
    {
     "data": {
      "application/vnd.jupyter.widget-view+json": {
       "model_id": "8188a2d779884abda606020394d14616",
       "version_major": 2,
       "version_minor": 0
      },
      "text/plain": [
       "NGLWidget()"
      ]
     },
     "metadata": {},
     "output_type": "display_data"
    }
   ],
   "source": [
    "_ = protein.get_charge()\n",
    "assert protein.charge_data is not None\n",
    "charges = [sum(x) for x in protein.charge_data[\"charge\"]]\n",
    "charge_scheme = pcv.ngl_scheme(\n",
    "    charges,\n",
    "    two_sided=True,\n",
    ")\n",
    "\n",
    "view = pcv.protein_to_nglview(protein)\n",
    "view._remove_representation()\n",
    "cm.add_selection_scheme(\"all_charge_value\", charge_scheme)\n",
    "view.add_representation(\"surface\", color=\"all_charge_value\")\n",
    "view"
   ]
  }
 ],
 "metadata": {
  "kernelspec": {
   "display_name": ".venv",
   "language": "python",
   "name": "python3"
  },
  "language_info": {
   "codemirror_mode": {
    "name": "ipython",
    "version": 3
   },
   "file_extension": ".py",
   "mimetype": "text/x-python",
   "name": "python",
   "nbconvert_exporter": "python",
   "pygments_lexer": "ipython3",
   "version": "3.12.5"
  }
 },
 "nbformat": 4,
 "nbformat_minor": 2
}
