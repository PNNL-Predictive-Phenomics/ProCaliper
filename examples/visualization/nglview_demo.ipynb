{
 "cells": [
  {
   "cell_type": "markdown",
   "metadata": {},
   "source": [
    "## Import libraries\n",
    "We import `nglview.color.ColormakerRegistry` so that we can make custom color schemes."
   ]
  },
  {
   "cell_type": "code",
   "execution_count": 1,
   "metadata": {},
   "outputs": [
    {
     "data": {
      "application/vnd.jupyter.widget-view+json": {
       "model_id": "4e25adfecfbc4102b206c79c6f171915",
       "version_major": 2,
       "version_minor": 0
      },
      "text/plain": []
     },
     "metadata": {},
     "output_type": "display_data"
    }
   ],
   "source": [
    "import procaliper as pc\n",
    "import procaliper.view as pcv\n",
    "from nglview.color import ColormakerRegistry"
   ]
  },
  {
   "cell_type": "markdown",
   "metadata": {},
   "source": [
    "We create a colormaker registry object to store custom schemes"
   ]
  },
  {
   "cell_type": "code",
   "execution_count": 2,
   "metadata": {},
   "outputs": [],
   "source": [
    "cm = ColormakerRegistry"
   ]
  },
  {
   "cell_type": "markdown",
   "metadata": {},
   "source": [
    "## Download protein data"
   ]
  },
  {
   "cell_type": "code",
   "execution_count": 3,
   "metadata": {},
   "outputs": [
    {
     "name": "stdout",
     "output_type": "stream",
     "text": [
      "Fetched: 1 / 1\n"
     ]
    }
   ],
   "source": [
    "protein = pc.Protein.from_uniprot_id(\"A0A0B4J2F0\")\n",
    "protein.fetch_pdb(save_path=\"scratch.pdb\")"
   ]
  },
  {
   "cell_type": "markdown",
   "metadata": {},
   "source": [
    "## Visualize SASA\n",
    "First we compute the sasa data and assert that it was properly created. Then, we use the sasa values to create a color scheme and nglview widget using the `view` module of `procaliper`. We remove the default representation, register our created color scheme, and add the new representation with our color scheme."
   ]
  },
  {
   "cell_type": "code",
   "execution_count": 4,
   "metadata": {},
   "outputs": [
    {
     "data": {
      "application/vnd.jupyter.widget-view+json": {
       "model_id": "b1fe72f9609f436d90e99a1f47932183",
       "version_major": 2,
       "version_minor": 0
      },
      "text/plain": [
       "NGLWidget()"
      ]
     },
     "metadata": {},
     "output_type": "display_data"
    }
   ],
   "source": [
    "_ = protein.get_sasa()  # compute and store sasa values at the site level\n",
    "assert protein.sasa_data is not None\n",
    "\n",
    "sasa_scheme = pcv.ngl_scheme(\n",
    "    protein.sasa_data[\"all_sasa_value\"]\n",
    ")  # create a color scheme from the sasa values\n",
    "\n",
    "view = pcv.protein_to_nglview(protein)  # generate an nglview widget\n",
    "view._remove_representation()  # remove the default representation\n",
    "\n",
    "cm.add_selection_scheme(\n",
    "    \"all_sasa_value\", sasa_scheme\n",
    ")  # add our color scheme to nglview\n",
    "view.add_representation(\n",
    "    \"surface\", color=\"all_sasa_value\"\n",
    ")  # render the protein using our color scheme\n",
    "\n",
    "view"
   ]
  },
  {
   "cell_type": "markdown",
   "metadata": {},
   "source": [
    "## Visualize Charge\n",
    "We repeat the process with the charge values. The key difference here is that we pass `two_sided=True` to the `ngl_scheme` function to indicate that it should generate a two-sided color scheme (since charge can be either positive or negative)."
   ]
  },
  {
   "cell_type": "code",
   "execution_count": 5,
   "metadata": {},
   "outputs": [
    {
     "data": {
      "application/vnd.jupyter.widget-view+json": {
       "model_id": "8188a2d779884abda606020394d14616",
       "version_major": 2,
       "version_minor": 0
      },
      "text/plain": [
       "NGLWidget()"
      ]
     },
     "metadata": {},
     "output_type": "display_data"
    }
   ],
   "source": [
    "_ = protein.get_charge()\n",
    "assert protein.charge_data is not None\n",
    "charges = [sum(x) for x in protein.charge_data[\"charge\"]]\n",
    "charge_scheme = pcv.ngl_scheme(\n",
    "    charges,\n",
    "    two_sided=True,\n",
    ")\n",
    "\n",
    "view = pcv.protein_to_nglview(protein)\n",
    "view._remove_representation()\n",
    "cm.add_selection_scheme(\"all_charge_value\", charge_scheme)\n",
    "view.add_representation(\"surface\", color=\"all_charge_value\")\n",
    "view"
   ]
  }
 ],
 "metadata": {
  "kernelspec": {
   "display_name": ".venv",
   "language": "python",
   "name": "python3"
  },
  "language_info": {
   "codemirror_mode": {
    "name": "ipython",
    "version": 3
   },
   "file_extension": ".py",
   "mimetype": "text/x-python",
   "name": "python",
   "nbconvert_exporter": "python",
   "pygments_lexer": "ipython3",
   "version": "3.12.5"
  }
 },
 "nbformat": 4,
 "nbformat_minor": 2
}
